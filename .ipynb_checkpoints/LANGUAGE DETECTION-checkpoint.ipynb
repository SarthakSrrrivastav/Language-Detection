{
 "cells": [
  {
   "cell_type": "code",
   "execution_count": 1,
   "id": "5afc4a94",
   "metadata": {},
   "outputs": [],
   "source": [
    "import string\n",
    "import re\n",
    "import codecs\n",
    "import numpy as np\n",
    "import pandas as pd\n",
    "import seaborn as sns\n",
    "import matplotlib.pyplot as plt\n",
    "from sklearn import feature_extraction\n",
    "from sklearn import linear_model\n",
    "from sklearn import pipeline\n",
    "from sklearn.model_selection import train_test_split\n",
    "from sklearn import metrics"
   ]
  },
  {
   "cell_type": "code",
   "execution_count": 2,
   "id": "c416451a",
   "metadata": {},
   "outputs": [
    {
     "name": "stdout",
     "output_type": "stream",
     "text": [
      "showing info https://raw.githubusercontent.com/nltk/nltk_data/gh-pages/index.xml\n"
     ]
    }
   ],
   "source": [
    "    import nltk\n",
    "    from nltk.stem import PorterStemmer\n",
    "    from nltk.corpus import stopwords\n",
    "    nltk.download()\n",
    "    from nltk.stem import WordNetLemmatizer\n",
    "    import pandas as pd\n",
    "    from sklearn.metrics import accuracy_score, confusion_matrix, classification_report\n",
    "from sklearn.feature_extraction.text import TfidfVectorizer\n",
    "from sklearn import pipeline\n",
    "from sklearn.linear_model import LogisticRegression\n",
    "import warnings\n",
    "warnings.filterwarnings('ignore')"
   ]
  },
  {
   "cell_type": "code",
   "execution_count": 3,
   "id": "b49b99a9",
   "metadata": {},
   "outputs": [],
   "source": [
    "ps=PorterStemmer()\n",
    "wn=WordNetLemmatizer()"
   ]
  },
  {
   "cell_type": "code",
   "execution_count": 4,
   "id": "58b35afd",
   "metadata": {},
   "outputs": [],
   "source": [
    "lan_data=pd.read_csv('lan text.csv')"
   ]
  },
  {
   "cell_type": "code",
   "execution_count": 5,
   "id": "92ebc517",
   "metadata": {},
   "outputs": [
    {
     "data": {
      "text/html": [
       "<div>\n",
       "<style scoped>\n",
       "    .dataframe tbody tr th:only-of-type {\n",
       "        vertical-align: middle;\n",
       "    }\n",
       "\n",
       "    .dataframe tbody tr th {\n",
       "        vertical-align: top;\n",
       "    }\n",
       "\n",
       "    .dataframe thead th {\n",
       "        text-align: right;\n",
       "    }\n",
       "</style>\n",
       "<table border=\"1\" class=\"dataframe\">\n",
       "  <thead>\n",
       "    <tr style=\"text-align: right;\">\n",
       "      <th></th>\n",
       "      <th>Text</th>\n",
       "      <th>Language</th>\n",
       "    </tr>\n",
       "  </thead>\n",
       "  <tbody>\n",
       "    <tr>\n",
       "      <th>0</th>\n",
       "      <td>Nature, in the broadest sense, is the natural...</td>\n",
       "      <td>English</td>\n",
       "    </tr>\n",
       "    <tr>\n",
       "      <th>1</th>\n",
       "      <td>\"Nature\" can refer to the phenomena of the phy...</td>\n",
       "      <td>English</td>\n",
       "    </tr>\n",
       "    <tr>\n",
       "      <th>2</th>\n",
       "      <td>The study of nature is a large, if not the onl...</td>\n",
       "      <td>English</td>\n",
       "    </tr>\n",
       "    <tr>\n",
       "      <th>3</th>\n",
       "      <td>Although humans are part of nature, human acti...</td>\n",
       "      <td>English</td>\n",
       "    </tr>\n",
       "    <tr>\n",
       "      <th>4</th>\n",
       "      <td>[1] The word nature is borrowed from the Old F...</td>\n",
       "      <td>English</td>\n",
       "    </tr>\n",
       "  </tbody>\n",
       "</table>\n",
       "</div>"
      ],
      "text/plain": [
       "                                                Text Language\n",
       "0   Nature, in the broadest sense, is the natural...  English\n",
       "1  \"Nature\" can refer to the phenomena of the phy...  English\n",
       "2  The study of nature is a large, if not the onl...  English\n",
       "3  Although humans are part of nature, human acti...  English\n",
       "4  [1] The word nature is borrowed from the Old F...  English"
      ]
     },
     "execution_count": 5,
     "metadata": {},
     "output_type": "execute_result"
    }
   ],
   "source": [
    "lan_data.head()"
   ]
  },
  {
   "cell_type": "code",
   "execution_count": 6,
   "id": "7a033470",
   "metadata": {},
   "outputs": [
    {
     "data": {
      "text/plain": [
       "(10337, 2)"
      ]
     },
     "execution_count": 6,
     "metadata": {},
     "output_type": "execute_result"
    }
   ],
   "source": [
    "lan_data.shape"
   ]
  },
  {
   "cell_type": "markdown",
   "id": "98c80edc",
   "metadata": {},
   "source": [
    "## PREPROCESSING THE DATA"
   ]
  },
  {
   "cell_type": "code",
   "execution_count": 7,
   "id": "98f1fb97",
   "metadata": {},
   "outputs": [
    {
     "data": {
      "text/plain": [
       "English       1385\n",
       "French        1014\n",
       "Spanish        819\n",
       "Portugeese     739\n",
       "Italian        698\n",
       "Russian        692\n",
       "Sweedish       676\n",
       "Malayalam      594\n",
       "Dutch          546\n",
       "Arabic         536\n",
       "Turkish        474\n",
       "German         470\n",
       "Tamil          469\n",
       "Danish         428\n",
       "Kannada        369\n",
       "Greek          365\n",
       "Hindi           63\n",
       "Name: Language, dtype: int64"
      ]
     },
     "execution_count": 7,
     "metadata": {},
     "output_type": "execute_result"
    }
   ],
   "source": [
    "lan_data.Language.value_counts()"
   ]
  },
  {
   "cell_type": "code",
   "execution_count": 8,
   "id": "7a120274",
   "metadata": {},
   "outputs": [],
   "source": [
    "def removeSymbolandNumber(text):\n",
    "    text=re.sub(r'[{}]'.format(string.punctuation),'',text)\n",
    "    text=re.sub(r'\\d+','',text)\n",
    "    text=re.sub(r'[@]','',text)\n",
    "    return text.lower()"
   ]
  },
  {
   "cell_type": "code",
   "execution_count": 9,
   "id": "8737fc3e",
   "metadata": {},
   "outputs": [],
   "source": [
    "def removeEnglishLetters(text):\n",
    "    text=re.sub(r'[a-zA-Z]+','',text)\n",
    "    return text.lower()"
   ]
  },
  {
   "cell_type": "code",
   "execution_count": 10,
   "id": "6841df1b",
   "metadata": {},
   "outputs": [
    {
     "data": {
      "text/plain": [
       "0         Nature, in the broadest sense, is the natural...\n",
       "1        \"Nature\" can refer to the phenomena of the phy...\n",
       "2        The study of nature is a large, if not the onl...\n",
       "3        Although humans are part of nature, human acti...\n",
       "4        [1] The word nature is borrowed from the Old F...\n",
       "                               ...                        \n",
       "10332    ನಿಮ್ಮ ತಪ್ಪು ಏನು ಬಂದಿದೆಯೆಂದರೆ ಆ ದಿನದಿಂದ ನಿಮಗೆ ಒ...\n",
       "10333    ನಾರ್ಸಿಸಾ ತಾನು ಮೊದಲಿಗೆ ಹೆಣಗಾಡುತ್ತಿದ್ದ ಮಾರ್ಗಗಳನ್...\n",
       "10334    ಹೇಗೆ ' ನಾರ್ಸಿಸಿಸಮ್ ಈಗ ಮರಿಯನ್ ಅವರಿಗೆ ಸಂಭವಿಸಿದ ಎ...\n",
       "10335    ಅವಳು ಈಗ ಹೆಚ್ಚು ಚಿನ್ನದ ಬ್ರೆಡ್ ಬಯಸುವುದಿಲ್ಲ ಎಂದು ...\n",
       "10336    ಟೆರ್ರಿ ನೀವು ನಿಜವಾಗಿಯೂ ಆ ದೇವದೂತನಂತೆ ಸ್ವಲ್ಪ ಕಾಣು...\n",
       "Length: 10337, dtype: object"
      ]
     },
     "execution_count": 10,
     "metadata": {},
     "output_type": "execute_result"
    }
   ],
   "source": [
    "X0=lan_data.apply(lambda x: removeEnglishLetters(x.Text) if x.Language in ['Russian','Malyalam','Hindi','Kannada','Tamil','Arabic'] else x.Text,axis=1)\n",
    "X0"
   ]
  },
  {
   "cell_type": "code",
   "execution_count": 11,
   "id": "e7bb988b",
   "metadata": {},
   "outputs": [
    {
     "data": {
      "text/plain": [
       "0         nature in the broadest sense is the natural p...\n",
       "1        nature can refer to the phenomena of the physi...\n",
       "2        the study of nature is a large if not the only...\n",
       "3        although humans are part of nature human activ...\n",
       "4         the word nature is borrowed from the old fren...\n",
       "                               ...                        \n",
       "10332    ನಿಮ್ಮ ತಪ್ಪು ಏನು ಬಂದಿದೆಯೆಂದರೆ ಆ ದಿನದಿಂದ ನಿಮಗೆ ಒ...\n",
       "10333    ನಾರ್ಸಿಸಾ ತಾನು ಮೊದಲಿಗೆ ಹೆಣಗಾಡುತ್ತಿದ್ದ ಮಾರ್ಗಗಳನ್...\n",
       "10334    ಹೇಗೆ  ನಾರ್ಸಿಸಿಸಮ್ ಈಗ ಮರಿಯನ್ ಅವರಿಗೆ ಸಂಭವಿಸಿದ ಎಲ...\n",
       "10335    ಅವಳು ಈಗ ಹೆಚ್ಚು ಚಿನ್ನದ ಬ್ರೆಡ್ ಬಯಸುವುದಿಲ್ಲ ಎಂದು ...\n",
       "10336    ಟೆರ್ರಿ ನೀವು ನಿಜವಾಗಿಯೂ ಆ ದೇವದೂತನಂತೆ ಸ್ವಲ್ಪ ಕಾಣು...\n",
       "Length: 10337, dtype: object"
      ]
     },
     "execution_count": 11,
     "metadata": {},
     "output_type": "execute_result"
    }
   ],
   "source": [
    "X1=X0.apply(removeSymbolandNumber)\n",
    "X1"
   ]
  },
  {
   "cell_type": "code",
   "execution_count": 12,
   "id": "bbc2e8fc",
   "metadata": {},
   "outputs": [],
   "source": [
    "y=lan_data['Language']"
   ]
  },
  {
   "cell_type": "code",
   "execution_count": 13,
   "id": "fef1af68",
   "metadata": {},
   "outputs": [
    {
     "data": {
      "text/plain": [
       "0        English\n",
       "1        English\n",
       "2        English\n",
       "3        English\n",
       "4        English\n",
       "          ...   \n",
       "10332    Kannada\n",
       "10333    Kannada\n",
       "10334    Kannada\n",
       "10335    Kannada\n",
       "10336    Kannada\n",
       "Name: Language, Length: 10337, dtype: object"
      ]
     },
     "execution_count": 13,
     "metadata": {},
     "output_type": "execute_result"
    }
   ],
   "source": [
    "y"
   ]
  },
  {
   "cell_type": "code",
   "execution_count": 14,
   "id": "6b5810df",
   "metadata": {},
   "outputs": [],
   "source": [
    "x_train,x_test,y_train,y_test=train_test_split(X1,y)"
   ]
  },
  {
   "cell_type": "code",
   "execution_count": 15,
   "id": "9e02a19c",
   "metadata": {},
   "outputs": [],
   "source": [
    "vectorizer=TfidfVectorizer(ngram_range=(1,3),analyzer='char')"
   ]
  },
  {
   "cell_type": "code",
   "execution_count": 16,
   "id": "b6a091cc",
   "metadata": {},
   "outputs": [],
   "source": [
    "model=pipeline.Pipeline([\n",
    "    ('vectorizer',vectorizer),\n",
    "    ('clf',LogisticRegression())\n",
    "])"
   ]
  },
  {
   "cell_type": "code",
   "execution_count": 17,
   "id": "27fa807d",
   "metadata": {},
   "outputs": [
    {
     "data": {
      "text/plain": [
       "Pipeline(steps=[('vectorizer',\n",
       "                 TfidfVectorizer(analyzer='char', ngram_range=(1, 3))),\n",
       "                ('clf', LogisticRegression())])"
      ]
     },
     "execution_count": 17,
     "metadata": {},
     "output_type": "execute_result"
    }
   ],
   "source": [
    "model.fit(x_train,y_train)"
   ]
  },
  {
   "cell_type": "markdown",
   "id": "c61415d3",
   "metadata": {},
   "source": [
    "## CHECKING FOR AACURACY"
   ]
  },
  {
   "cell_type": "code",
   "execution_count": 18,
   "id": "bf7ab8a1",
   "metadata": {},
   "outputs": [],
   "source": [
    "y_pred=model.predict(x_test)\n",
    "accuracy=accuracy_score(y_test,y_pred)\n",
    "cm=confusion_matrix(y_test,y_pred)"
   ]
  },
  {
   "cell_type": "code",
   "execution_count": 19,
   "id": "7804483d",
   "metadata": {},
   "outputs": [
    {
     "name": "stdout",
     "output_type": "stream",
     "text": [
      "ACCURACY IS :  0.9852998065764024\n"
     ]
    }
   ],
   "source": [
    "print(\"ACCURACY IS : \",accuracy)"
   ]
  },
  {
   "cell_type": "code",
   "execution_count": 20,
   "id": "4dd12681",
   "metadata": {},
   "outputs": [
    {
     "name": "stdout",
     "output_type": "stream",
     "text": [
      "              precision    recall  f1-score   support\n",
      "\n",
      "      Arabic       1.00      1.00      1.00       136\n",
      "      Danish       0.97      0.94      0.96       114\n",
      "       Dutch       0.98      0.98      0.98       138\n",
      "     English       0.99      0.99      0.99       347\n",
      "      French       0.98      0.98      0.98       266\n",
      "      German       0.98      0.99      0.99       118\n",
      "       Greek       1.00      1.00      1.00        95\n",
      "       Hindi       1.00      1.00      1.00        22\n",
      "     Italian       0.97      0.96      0.97       148\n",
      "     Kannada       1.00      1.00      1.00        95\n",
      "   Malayalam       1.00      1.00      1.00       144\n",
      "  Portugeese       0.98      0.98      0.98       185\n",
      "     Russian       1.00      1.00      1.00       169\n",
      "     Spanish       0.97      0.98      0.97       200\n",
      "    Sweedish       0.98      0.97      0.97       176\n",
      "       Tamil       1.00      1.00      1.00       127\n",
      "     Turkish       0.98      0.98      0.98       105\n",
      "\n",
      "    accuracy                           0.99      2585\n",
      "   macro avg       0.99      0.99      0.99      2585\n",
      "weighted avg       0.99      0.99      0.99      2585\n",
      "\n"
     ]
    }
   ],
   "source": [
    "print(classification_report(y_test,y_pred))"
   ]
  },
  {
   "cell_type": "code",
   "execution_count": 21,
   "id": "20ae2676",
   "metadata": {},
   "outputs": [
    {
     "data": {
      "image/png": "[encoded data removed]",
      "text/plain": [
       "<Figure size 1080x720 with 2 Axes>"
      ]
     },
     "metadata": {
      "needs_background": "light"
     },
     "output_type": "display_data"
    }
   ],
   "source": [
    "plt.figure(figsize=(15,10))\n",
    "sns.heatmap(cm, annot = True)\n",
    "plt.show()"
   ]
  },
  {
   "cell_type": "markdown",
   "id": "b27d8cb8",
   "metadata": {},
   "source": [
    "## TESTING MODEL"
   ]
  },
  {
   "cell_type": "code",
   "execution_count": 22,
   "id": "c7be9757",
   "metadata": {},
   "outputs": [],
   "source": [
    "def predict(text):\n",
    "    lang=model.predict([text])\n",
    "    print('THE LANGUAGE IS : ',lang[0])"
   ]
  },
  {
   "cell_type": "code",
   "execution_count": 23,
   "id": "25b8d448",
   "metadata": {},
   "outputs": [
    {
     "name": "stdout",
     "output_type": "stream",
     "text": [
      "THE LANGUAGE IS :  Hindi\n"
     ]
    }
   ],
   "source": [
    "predict(\"भाषा का पता लगाने वाले मॉडल की जांच\")"
   ]
  },
  {
   "cell_type": "code",
   "execution_count": 24,
   "id": "e6ea0f1b",
   "metadata": {},
   "outputs": [
    {
     "name": "stdout",
     "output_type": "stream",
     "text": [
      "THE LANGUAGE IS :  Hindi\n"
     ]
    }
   ],
   "source": [
    "predict(\" ऐसे शब्दों के समूह को कहते हैं जो एक पूर्ण विचार को व्यक्त करता है। वाक्य चाहे कितना भी छोटा या बड़ा हो उससे एक पूर्ण विचार व्यक्त होना चाहिए\")"
   ]
  },
  {
   "cell_type": "code",
   "execution_count": 25,
   "id": "2ca89478",
   "metadata": {},
   "outputs": [
    {
     "name": "stdout",
     "output_type": "stream",
     "text": [
      "THE LANGUAGE IS :  Russian\n"
     ]
    }
   ],
   "source": [
    "predict(\"Доброе утро\")"
   ]
  },
  {
   "cell_type": "markdown",
   "id": "fd2686a0",
   "metadata": {},
   "source": [
    "## SAVING THE TRAINED MODEL FOR IMPORT IN THE STREAMLIT  "
   ]
  },
  {
   "cell_type": "code",
   "execution_count": 27,
   "id": "f694c2ec",
   "metadata": {},
   "outputs": [],
   "source": [
    "import pickle"
   ]
  },
  {
   "cell_type": "code",
   "execution_count": 29,
   "id": "557d012e",
   "metadata": {},
   "outputs": [],
   "source": [
    "filename='trainedmodel.sav'\n",
    "pickle.dump(model,open(filename,'wb'))"
   ]
  },
  {
   "cell_type": "code",
   "execution_count": 30,
   "id": "62bb1b40",
   "metadata": {},
   "outputs": [],
   "source": [
    "load_model=pickle.load(open('trainedmodel.sav','rb'))  #loading the save model"
   ]
  },
  {
   "cell_type": "code",
   "execution_count": 31,
   "id": "5704aa32",
   "metadata": {},
   "outputs": [],
   "source": [
    "def predict(text):\n",
    "    lang=load_model.predict([text])\n",
    "    print(lang[0])"
   ]
  },
  {
   "cell_type": "code",
   "execution_count": 32,
   "id": "c5168d0b",
   "metadata": {},
   "outputs": [
    {
     "name": "stdout",
     "output_type": "stream",
     "text": [
      "THE LANGUAGE IS :  Russian\n"
     ]
    }
   ],
   "source": [
    "predict(\"Доброе утро\")"
   ]
  },
  {
   "cell_type": "code",
   "execution_count": null,
   "id": "f322f91d",
   "metadata": {},
   "outputs": [],
   "source": []
  },
  {
   "cell_type": "code",
   "execution_count": null,
   "id": "1fc45986",
   "metadata": {},
   "outputs": [],
   "source": []
  }
 ],
 "metadata": {
  "kernelspec": {
   "display_name": "Python 3 (ipykernel)",
   "language": "python",
   "name": "python3"
  },
  "language_info": {
   "codemirror_mode": {
    "name": "ipython",
    "version": 3
   },
   "file_extension": ".py",
   "mimetype": "text/x-python",
   "name": "python",
   "nbconvert_exporter": "python",
   "pygments_lexer": "ipython3",
   "version": "3.10.0"
  }
 },
 "nbformat": 4,
 "nbformat_minor": 5
}
